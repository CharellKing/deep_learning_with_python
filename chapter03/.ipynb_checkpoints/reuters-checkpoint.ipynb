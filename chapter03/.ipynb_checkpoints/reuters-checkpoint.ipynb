{
 "cells": [
  {
   "cell_type": "code",
   "execution_count": 46,
   "metadata": {},
   "outputs": [],
   "source": [
    "from keras.datasets import reuters\n",
    "\n",
    "(train_data, train_labels), (test_data, test_labels) = reuters.load_data(num_words=10000)\n"
   ]
  },
  {
   "cell_type": "code",
   "execution_count": 47,
   "metadata": {},
   "outputs": [],
   "source": [
    "import numpy as np\n",
    "\n",
    "def vectorize_sequences(sequences, dimension=10000):\n",
    "    results = np.zeros((len(sequences), dimension))\n",
    "    for i, sequence in enumerate(sequences):\n",
    "        results[i, sequence] = 1.\n",
    "    return results\n",
    "\n",
    "x_train = vectorize_sequences(train_data)\n",
    "x_test = vectorize_sequences(test_data)"
   ]
  },
  {
   "cell_type": "code",
   "execution_count": 48,
   "metadata": {},
   "outputs": [],
   "source": [
    "def to_one_hot(labels, dimension=46):\n",
    "    results = np.zeros((len(labels), dimension))\n",
    "    for i, label in enumerate(labels):\n",
    "        results[i, label] = 1.\n",
    "     \n",
    "    return results"
   ]
  },
  {
   "cell_type": "code",
   "execution_count": 49,
   "metadata": {},
   "outputs": [],
   "source": [
    "# one_hot_train_labels = to_one_hot(train_labels)\n",
    "# one_hot_test_labels = to_one_hot(test_labels)"
   ]
  },
  {
   "cell_type": "code",
   "execution_count": 108,
   "metadata": {},
   "outputs": [],
   "source": [
    "# from keras.utils.np_utils import to_categorical\n",
    "# one_hot_train_labels = to_categorical(train_labels)\n",
    "# one_hot_test_labels = to_categorical(test_labels)\n",
    "\n",
    "# print(one_hot_train_labels[2])\n",
    "\n",
    "one_hot_train_labels = train_labels\n",
    "one_hot_test_labels = test_labels"
   ]
  },
  {
   "cell_type": "code",
   "execution_count": 109,
   "metadata": {},
   "outputs": [],
   "source": [
    "from keras import models\n",
    "from keras import layers\n",
    "\n",
    "model = models.Sequential()\n",
    "model.add(layers.Dense(64, activation='relu', input_shape=(10000, )))\n",
    "model.add(layers.Dense(64, activation='relu'))\n",
    "model.add(layers.Dense(64, activation='relu'))\n",
    "model.add(layers.Dense(46, activation='softmax'))"
   ]
  },
  {
   "cell_type": "code",
   "execution_count": 110,
   "metadata": {},
   "outputs": [],
   "source": [
    "# model.compile(optimizer='rmsprop', loss='categorical_crossentropy', metrics=['accuracy'])\n",
    "model.compile(optimizer='rmsprop', loss='sparse_categorical_crossentropy', metrics=['accuracy'])"
   ]
  },
  {
   "cell_type": "code",
   "execution_count": 111,
   "metadata": {},
   "outputs": [],
   "source": [
    "x_val = x_train[:1000]\n",
    "partial_x_train = x_train[1000:]\n",
    "y_val = one_hot_train_labels[:1000]\n",
    "partial_y_train = one_hot_train_labels[1000:]"
   ]
  },
  {
   "cell_type": "code",
   "execution_count": 112,
   "metadata": {},
   "outputs": [
    {
     "name": "stdout",
     "output_type": "stream",
     "text": [
      "Train on 7982 samples, validate on 1000 samples\n",
      "Epoch 1/20\n",
      "7982/7982 [==============================] - 1s 151us/step - loss: 2.6769 - acc: 0.4503 - val_loss: 1.7197 - val_acc: 0.6370\n",
      "Epoch 2/20\n",
      "7982/7982 [==============================] - 1s 101us/step - loss: 1.4375 - acc: 0.6978 - val_loss: 1.3502 - val_acc: 0.7020\n",
      "Epoch 3/20\n",
      "7982/7982 [==============================] - 1s 96us/step - loss: 1.0767 - acc: 0.7684 - val_loss: 1.1848 - val_acc: 0.7400\n",
      "Epoch 4/20\n",
      "7982/7982 [==============================] - 1s 95us/step - loss: 0.8431 - acc: 0.8150 - val_loss: 1.2775 - val_acc: 0.7030\n",
      "Epoch 5/20\n",
      "7982/7982 [==============================] - 1s 99us/step - loss: 0.6677 - acc: 0.8574 - val_loss: 1.0039 - val_acc: 0.7930\n",
      "Epoch 6/20\n",
      "7982/7982 [==============================] - 1s 96us/step - loss: 0.5408 - acc: 0.8787 - val_loss: 0.9764 - val_acc: 0.7910\n",
      "Epoch 7/20\n",
      "7982/7982 [==============================] - 1s 101us/step - loss: 0.4169 - acc: 0.9128 - val_loss: 1.0002 - val_acc: 0.7850\n",
      "Epoch 8/20\n",
      "7982/7982 [==============================] - 1s 103us/step - loss: 0.3508 - acc: 0.9260 - val_loss: 0.9666 - val_acc: 0.8050\n",
      "Epoch 9/20\n",
      "7982/7982 [==============================] - 1s 118us/step - loss: 0.2832 - acc: 0.9376 - val_loss: 0.9751 - val_acc: 0.8020\n",
      "Epoch 10/20\n",
      "7982/7982 [==============================] - 1s 100us/step - loss: 0.2360 - acc: 0.9469 - val_loss: 0.9925 - val_acc: 0.8060\n",
      "Epoch 11/20\n",
      "7982/7982 [==============================] - 1s 97us/step - loss: 0.2075 - acc: 0.9499 - val_loss: 1.0104 - val_acc: 0.8050\n",
      "Epoch 12/20\n",
      "7982/7982 [==============================] - 1s 109us/step - loss: 0.1844 - acc: 0.9530 - val_loss: 1.0518 - val_acc: 0.8050\n",
      "Epoch 13/20\n",
      "7982/7982 [==============================] - 1s 111us/step - loss: 0.1658 - acc: 0.9570 - val_loss: 1.0792 - val_acc: 0.8090\n",
      "Epoch 14/20\n",
      "7982/7982 [==============================] - 1s 97us/step - loss: 0.1543 - acc: 0.9545 - val_loss: 1.1335 - val_acc: 0.7820\n",
      "Epoch 15/20\n",
      "7982/7982 [==============================] - 1s 98us/step - loss: 0.1469 - acc: 0.9564 - val_loss: 1.1666 - val_acc: 0.7810\n",
      "Epoch 16/20\n",
      "7982/7982 [==============================] - 1s 103us/step - loss: 0.1407 - acc: 0.9559 - val_loss: 1.1424 - val_acc: 0.8030\n",
      "Epoch 17/20\n",
      "7982/7982 [==============================] - 1s 96us/step - loss: 0.1295 - acc: 0.9573 - val_loss: 1.1306 - val_acc: 0.7960\n",
      "Epoch 18/20\n",
      "7982/7982 [==============================] - 1s 102us/step - loss: 0.1300 - acc: 0.9577 - val_loss: 1.1681 - val_acc: 0.7980\n",
      "Epoch 19/20\n",
      "7982/7982 [==============================] - 1s 102us/step - loss: 0.1212 - acc: 0.9579 - val_loss: 1.1667 - val_acc: 0.7880\n",
      "Epoch 20/20\n",
      "7982/7982 [==============================] - 1s 94us/step - loss: 0.1210 - acc: 0.9587 - val_loss: 1.1129 - val_acc: 0.8060\n"
     ]
    }
   ],
   "source": [
    "history = model.fit(partial_x_train,\n",
    "                    partial_y_train,\n",
    "                    epochs=20,\n",
    "                    batch_size=512,\n",
    "                    validation_data=(x_val, y_val))"
   ]
  },
  {
   "cell_type": "code",
   "execution_count": 113,
   "metadata": {},
   "outputs": [
    {
     "data": {
      "image/png": "[encoded data removed]",
      "text/plain": [
       "<Figure size 432x288 with 1 Axes>"
      ]
     },
     "metadata": {
      "needs_background": "light"
     },
     "output_type": "display_data"
    }
   ],
   "source": [
    "import matplotlib.pyplot as plt\n",
    "loss = history.history['loss']\n",
    "val_loss = history.history['val_loss']\n",
    "\n",
    "epochs = range(1, len(loss) + 1)\n",
    "\n",
    "plt.plot(epochs, loss, 'bo', label='Trainning loss')\n",
    "plt.plot(epochs, val_loss, 'b', label='Validation loss')\n",
    "plt.title('Training and validation loss')\n",
    "plt.xlabel('Epochs')\n",
    "plt.ylabel('Loss')\n",
    "plt.legend()\n",
    "plt.show()"
   ]
  },
  {
   "cell_type": "code",
   "execution_count": 114,
   "metadata": {},
   "outputs": [
    {
     "data": {
      "image/png": "[encoded data removed]",
      "text/plain": [
       "<Figure size 432x288 with 1 Axes>"
      ]
     },
     "metadata": {
      "needs_background": "light"
     },
     "output_type": "display_data"
    }
   ],
   "source": [
    "plt.clf()\n",
    "acc = history.history['acc']\n",
    "val_acc = history.history['val_acc']\n",
    "\n",
    "plt.plot(epochs, acc, 'bo', label='Training acc')\n",
    "plt.plot(epochs, val_acc, 'b', label='Validation acc')\n",
    "plt.title('Training and validation accuracy')\n",
    "plt.xlabel('Epochs')\n",
    "plt.ylabel('Loss')\n",
    "plt.legend()\n",
    "plt.show()"
   ]
  },
  {
   "cell_type": "code",
   "execution_count": 115,
   "metadata": {},
   "outputs": [],
   "source": [
    " predictions = model.predict(x_test)"
   ]
  },
  {
   "cell_type": "markdown",
   "metadata": {},
   "source": [
    "# 测试\n",
    "1. 增加隐藏层的单元数量或者增加隐藏层的数量，提高了训练集的精度，却丝毫没有提高验证集的精度"
   ]
  },
  {
   "cell_type": "markdown",
   "metadata": {},
   "source": [
    "# 总结\n",
    "1. 如果是一个多个分类(N)问题，网络最后一层的size为N\n",
    "2. 如果是一个多个分类(N)问题，网络最后一层的softmax激活层，最后输出也为N个概率分布\n",
    "3. 如果是一个多个分类(N)问题，损失函数为categorical_crossentropy， 能够缩小目标概率分布与网络概率分布的差距\n",
    "4. 有两种方式来处理多分类的多个标签的问题：使用categorical encoding来向量化标签，使用categorical_crossentropy作为损失函数；使用整型来向量化标签，就使用sparse_categorical_crossentropy来作为损失函数\n",
    "5. 如果最终需要分类的数量有很多，应该避免因为把某一层中的单元设置太少，而导致的出现创建信息瓶颈"
   ]
  }
 ],
 "metadata": {
  "kernelspec": {
   "display_name": "Python 3",
   "language": "python",
   "name": "python3"
  },
  "language_info": {
   "codemirror_mode": {
    "name": "ipython",
    "version": 3
   },
   "file_extension": ".py",
   "mimetype": "text/x-python",
   "name": "python",
   "nbconvert_exporter": "python",
   "pygments_lexer": "ipython3",
   "version": "3.5.6"
  }
 },
 "nbformat": 4,
 "nbformat_minor": 2
}
