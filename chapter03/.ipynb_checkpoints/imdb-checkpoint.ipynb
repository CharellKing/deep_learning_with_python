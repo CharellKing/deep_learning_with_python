{
 "cells": [
  {
   "cell_type": "code",
   "execution_count": 58,
   "metadata": {},
   "outputs": [],
   "source": [
    "from keras.datasets import imdb\n",
    "\n",
    "(train_data, train_labels), (test_data, test_labels) = imdb.load_data(num_words=10000) # 提取频率出现最高的top10000的features\n"
   ]
  },
  {
   "cell_type": "markdown",
   "metadata": {},
   "source": [
    "技巧:\n",
    "1. 训练数据和测试数据的比例为1:1\n",
    "2. 提取重要的特征属性，有助于减少数据规模，加快训练速度"
   ]
  },
  {
   "cell_type": "code",
   "execution_count": 122,
   "metadata": {},
   "outputs": [],
   "source": [
    "import numpy as np\n",
    "def vectorize_sequences(sequences, dimension=10000):\n",
    "    results = np.zeros((len(sequences), dimension))\n",
    "    for i, sequence in enumerate(sequences):\n",
    "        results[i, sequence] = 1\n",
    "    return results\n",
    "\n",
    "x_train = vectorize_sequences(train_data)\n",
    "x_test = vectorize_sequences(test_data)\n",
    "\n",
    "y_train = np.asarray(train_labels).astype('float32')\n",
    "y_test = np.asarray(test_labels).astype('float32')"
   ]
  },
  {
   "cell_type": "markdown",
   "metadata": {},
   "source": [
    "技巧:\n",
    "1. 向量化训练数据和测试数据\n",
    "2. 训练数据和数据结果标签也需要向量化"
   ]
  },
  {
   "cell_type": "code",
   "execution_count": 123,
   "metadata": {},
   "outputs": [
    {
     "data": {
      "text/plain": [
       "array([0., 1., 1., ..., 0., 0., 0.])"
      ]
     },
     "execution_count": 123,
     "metadata": {},
     "output_type": "execute_result"
    }
   ],
   "source": [
    "x_train[0]"
   ]
  },
  {
   "cell_type": "code",
   "execution_count": 136,
   "metadata": {},
   "outputs": [],
   "source": [
    "from keras import models\n",
    "from keras import layers\n",
    "\n",
    "model = models.Sequential()\n",
    "model.add(layers.Dense(32, activation='relu', input_shape=(10000, )))\n",
    "model.add(layers.Dense(32, activation='relu'))\n",
    "model.add(layers.Dense(1, activation='sigmoid'))\n"
   ]
  },
  {
   "cell_type": "markdown",
   "metadata": {},
   "source": [
    "知识:\n",
    "1. Dense, 全连接层，一层\n",
    "2. relu(dot(W, input) + b)\n",
    "3. Dense的unit参数为16，以为着有一个隐藏单元，意味着W为(input_dimension, 16)的矩阵\n",
    "4. relu为激活函数，x > 0 ? x : 0\n",
    "5. sigmoid为最后一层的激活函数，输出结果在[0, 1]之间, 面对一个二分分类问题，所以用sigmoid函数\n",
    "6. relu的替换函数还有prelu, elu"
   ]
  },
  {
   "cell_type": "code",
   "execution_count": 137,
   "metadata": {},
   "outputs": [],
   "source": [
    "from keras import optimizers\n",
    "model.compile(optimizer=optimizers.RMSprop(lr=0.001),\n",
    "              loss='binary_crossentropy',\n",
    "              metrics=['accuracy'])"
   ]
  },
  {
   "cell_type": "markdown",
   "metadata": {},
   "source": [
    "知识:\n",
    "1. 损失函数: 针对二分分类问题，一般使用binary_crossentropy，也可以使用mean_squared_error；看最终的效果\n",
    "2. 优化函数: optimizers.RMSprop(lr=0.001)\n",
    "3. 度量函数: 精度"
   ]
  },
  {
   "cell_type": "code",
   "execution_count": 138,
   "metadata": {},
   "outputs": [],
   "source": [
    "x_val = x_train[:10000]\n",
    "partial_x_train = x_train[10000:]\n",
    "\n",
    "y_val = y_train[:10000]\n",
    "partial_y_train = y_train[10000:]"
   ]
  },
  {
   "cell_type": "markdown",
   "metadata": {},
   "source": [
    "技巧:\n",
    "1. 校验数据集合(10000)/测试数据集(15000) = 2/3"
   ]
  },
  {
   "cell_type": "code",
   "execution_count": 140,
   "metadata": {},
   "outputs": [
    {
     "name": "stdout",
     "output_type": "stream",
     "text": [
      "Train on 15000 samples, validate on 10000 samples\n",
      "Epoch 1/20\n",
      "15000/15000 [==============================] - 2s 115us/step - loss: 7.8877e-04 - acc: 0.9999 - val_loss: 0.7908 - val_acc: 0.8662\n",
      "Epoch 2/20\n",
      "15000/15000 [==============================] - 2s 110us/step - loss: 0.0089 - acc: 0.9975 - val_loss: 0.8165 - val_acc: 0.8672\n",
      "Epoch 3/20\n",
      "15000/15000 [==============================] - 2s 111us/step - loss: 3.9222e-04 - acc: 0.9999 - val_loss: 0.8316 - val_acc: 0.8669\n",
      "Epoch 4/20\n",
      "15000/15000 [==============================] - 2s 117us/step - loss: 2.9141e-04 - acc: 1.0000 - val_loss: 0.8602 - val_acc: 0.8650\n",
      "Epoch 5/20\n",
      "15000/15000 [==============================] - 2s 116us/step - loss: 2.0843e-04 - acc: 1.0000 - val_loss: 1.0975 - val_acc: 0.8420\n",
      "Epoch 6/20\n",
      "15000/15000 [==============================] - 2s 115us/step - loss: 0.0040 - acc: 0.9990 - val_loss: 0.9159 - val_acc: 0.8632\n",
      "Epoch 7/20\n",
      "15000/15000 [==============================] - 2s 115us/step - loss: 1.1385e-04 - acc: 1.0000 - val_loss: 0.9359 - val_acc: 0.8634\n",
      "Epoch 8/20\n",
      "15000/15000 [==============================] - 2s 114us/step - loss: 8.8279e-05 - acc: 1.0000 - val_loss: 0.9699 - val_acc: 0.8623\n",
      "Epoch 9/20\n",
      "15000/15000 [==============================] - 2s 110us/step - loss: 0.0071 - acc: 0.9981 - val_loss: 0.9998 - val_acc: 0.8644\n",
      "Epoch 10/20\n",
      "15000/15000 [==============================] - 2s 110us/step - loss: 4.5170e-05 - acc: 1.0000 - val_loss: 1.0064 - val_acc: 0.8630\n",
      "Epoch 11/20\n",
      "15000/15000 [==============================] - 2s 111us/step - loss: 3.7292e-05 - acc: 1.0000 - val_loss: 1.0170 - val_acc: 0.8625\n",
      "Epoch 12/20\n",
      "15000/15000 [==============================] - 2s 115us/step - loss: 3.0994e-05 - acc: 1.0000 - val_loss: 1.0346 - val_acc: 0.8617\n",
      "Epoch 13/20\n",
      "15000/15000 [==============================] - 2s 112us/step - loss: 2.2899e-05 - acc: 1.0000 - val_loss: 1.0647 - val_acc: 0.8612\n",
      "Epoch 14/20\n",
      "15000/15000 [==============================] - 2s 112us/step - loss: 0.0064 - acc: 0.9983 - val_loss: 1.0997 - val_acc: 0.8615\n",
      "Epoch 15/20\n",
      "15000/15000 [==============================] - 2s 117us/step - loss: 1.4889e-05 - acc: 1.0000 - val_loss: 1.0971 - val_acc: 0.8600\n",
      "Epoch 16/20\n",
      "15000/15000 [==============================] - 2s 112us/step - loss: 1.1018e-05 - acc: 1.0000 - val_loss: 1.1036 - val_acc: 0.8601\n",
      "Epoch 17/20\n",
      "15000/15000 [==============================] - 2s 116us/step - loss: 8.8853e-06 - acc: 1.0000 - val_loss: 1.1119 - val_acc: 0.8603\n",
      "Epoch 18/20\n",
      "15000/15000 [==============================] - 2s 131us/step - loss: 7.1732e-06 - acc: 1.0000 - val_loss: 1.1258 - val_acc: 0.8606\n",
      "Epoch 19/20\n",
      "15000/15000 [==============================] - 2s 118us/step - loss: 5.0752e-06 - acc: 1.0000 - val_loss: 1.1549 - val_acc: 0.8598\n",
      "Epoch 20/20\n",
      "15000/15000 [==============================] - 2s 117us/step - loss: 0.0033 - acc: 0.9991 - val_loss: 1.2162 - val_acc: 0.8582\n"
     ]
    }
   ],
   "source": [
    "history = model.fit(partial_x_train, \n",
    "                    partial_y_train, \n",
    "                    epochs=20, \n",
    "                    batch_size=512, \n",
    "                    validation_data=(x_val, y_val))"
   ]
  },
  {
   "cell_type": "markdown",
   "metadata": {},
   "source": [
    "知识:\n",
    "1. 校验数据集: 验证训练数据集模型的精度\n",
    "2. epochs: 迭代次数\n",
    "3. batch_size: 分批对训练数据进行训练，由于数据级别很大，占用内存大，所以分批次。batch size增大到一定量，梯度下降方向基本不会再变化"
   ]
  },
  {
   "cell_type": "code",
   "execution_count": 141,
   "metadata": {},
   "outputs": [
    {
     "data": {
      "text/plain": [
       "dict_keys(['val_loss', 'val_acc', 'loss', 'acc'])"
      ]
     },
     "execution_count": 141,
     "metadata": {},
     "output_type": "execute_result"
    }
   ],
   "source": [
    "history_dict = history.history\n",
    "history_dict.keys()"
   ]
  },
  {
   "cell_type": "code",
   "execution_count": 142,
   "metadata": {},
   "outputs": [
    {
     "data": {
      "image/png": "[encoded data removed]",
      "text/plain": [
       "<Figure size 432x288 with 1 Axes>"
      ]
     },
     "metadata": {
      "needs_background": "light"
     },
     "output_type": "display_data"
    }
   ],
   "source": [
    "import matplotlib.pyplot as plt\n",
    "acc = history.history['acc']\n",
    "val_acc = history.history['val_acc']\n",
    "loss = history.history['loss']\n",
    "val_loss = history.history['val_loss']\n",
    "\n",
    "epochs = range(1, len(acc) + 1)\n",
    "plt.plot(epochs, loss, 'bo', label=\"training loss\")\n",
    "plt.plot(epochs, val_loss, 'b', label='Validation loss')\n",
    "plt.title(\"Trainning and validation loss\")\n",
    "plt.xlabel('Epochs')\n",
    "plt.ylabel('Loss')\n",
    "plt.legend()\n",
    "plt.show()"
   ]
  },
  {
   "cell_type": "code",
   "execution_count": 143,
   "metadata": {},
   "outputs": [
    {
     "data": {
      "image/png": "[encoded data removed]",
      "text/plain": [
       "<Figure size 432x288 with 1 Axes>"
      ]
     },
     "metadata": {
      "needs_background": "light"
     },
     "output_type": "display_data"
    }
   ],
   "source": [
    "plt.clf()\n",
    "acc_values = history_dict['acc']\n",
    "val_acc_values = history_dict['val_acc']\n",
    "\n",
    "plt.plot(epochs, acc, 'bo', label='Training acc')\n",
    "plt.plot(epochs, val_acc, 'b', label='Validation acc')\n",
    "plt.title('Training and validation accuracy')\n",
    "plt.xlabel('Epoches')\n",
    "plt.ylabel('Loss')\n",
    "plt.legend()\n",
    "\n",
    "plt.show()"
   ]
  },
  {
   "cell_type": "code",
   "execution_count": 135,
   "metadata": {},
   "outputs": [
    {
     "data": {
      "text/plain": [
       "array([[9.4944594e-04],\n",
       "       [9.9993920e-01],\n",
       "       [9.9953938e-01],\n",
       "       ...,\n",
       "       [2.4702813e-04],\n",
       "       [1.9890754e-03],\n",
       "       [8.6185896e-01]], dtype=float32)"
      ]
     },
     "execution_count": 135,
     "metadata": {},
     "output_type": "execute_result"
    }
   ],
   "source": [
    "model.predict(x_test)"
   ]
  },
  {
   "cell_type": "markdown",
   "metadata": {},
   "source": [
    "# 测试：\n",
    "1. 更改layer的数量：当有3层layer的时候，减少一层，loss的过拟合减轻；增加一层，loss的过拟合加重。\n",
    "2. 增大每一个layer的unit数量到32，64：loss以及acc的过拟合加剧\n",
    "2. 损失函数换成mse; 损失的过拟合减轻；精度变化不大，有稍微降低\n",
    "3. relu换成tanh；relu要比tanh优秀，tanh加重了loss的过拟合"
   ]
  },
  {
   "cell_type": "markdown",
   "metadata": {},
   "source": [
    "# 总结:\n",
    "1. 必须得把原始的数据转化为张量，能够在神经网络中使用.\n",
    "2. relu激活函数被广泛使用，包括分类问题\n",
    "3. 在二分问题中，最后一层，需要以包含一个unit的激活函数为sigmoid的层来结束\n",
    "4. 由于是二分问题，所以损失函数为binary_crossentropy\n",
    "5. rmsprop优化器已经足够好了，这个不用担心\n",
    "6. 为了在训练集上获取更好的效果，模型会对未知的数据变得过拟合而表现更糟糕。所以需要保证检测数据是不同于训练集数据的\n"
   ]
  }
 ],
 "metadata": {
  "kernelspec": {
   "display_name": "Python 3",
   "language": "python",
   "name": "python3"
  },
  "language_info": {
   "codemirror_mode": {
    "name": "ipython",
    "version": 3
   },
   "file_extension": ".py",
   "mimetype": "text/x-python",
   "name": "python",
   "nbconvert_exporter": "python",
   "pygments_lexer": "ipython3",
   "version": "3.5.6"
  }
 },
 "nbformat": 4,
 "nbformat_minor": 2
}
